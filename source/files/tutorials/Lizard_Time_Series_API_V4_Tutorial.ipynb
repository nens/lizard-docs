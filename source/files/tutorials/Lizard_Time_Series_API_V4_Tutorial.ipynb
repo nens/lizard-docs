{
 "cells": [
  {
   "cell_type": "markdown",
   "metadata": {
    "id": "FQ79duRxpTFt"
   },
   "source": [
    "<img style=\"float: right;\" src=\"https://nens.lizard.net/media/projecten/lizard_tutorial/lizard_logo.png\" width=\"200\"/>\n",
    "\n",
    "# Getting familiair with Lizard Time Series API V4\n",
    "Welcome! In this Notebook we will help you get more familiair with time series and their availability through the Lizard Time Series API.\n",
    "If you have feedback or questions about this Notebook, please do not hesitate to contact us via servicedesk@nelen-schuurmans.nl.\n",
    "\n",
    "## Introduction\n",
    "Lizard is a cloud-based datawarehouse & analytics platform for data that describes the physical environment.\n",
    "The Lizard Time Series server stores time series data, which for example can describe the water level in a river or the energy consumption of a pumping station.\n",
    "Time series in Lizard are always related to a geographical location (x,y).\n",
    "In addition time series can be linked to an asset.\n",
    "More general information surrounding time series in Lizard can be found in the documentation: https://docs.lizard.net/c_timeseries.html\n",
    "\n",
    "Lizard offers a high-performance, easy to access data source with its API.\n",
    "The API can be used to retrieve raw data or for to retrieve aggregated data and statistics.\n",
    "There is a wide variety of use cases, this notebook will help you get familiar with requesting time series data from the Lizard API."
   ]
  },
  {
   "cell_type": "markdown",
   "metadata": {
    "id": "QgmXi_hH1htS"
   },
   "source": [
    "# The Time Series Data Model explained"
   ]
  },
  {
   "cell_type": "markdown",
   "metadata": {
    "id": "WilpK539pTFv"
   },
   "source": [
    "The time series data model consists of two main components `time series metadata` and `time series events`. These two components together are referred to as a `time series object`. <br>\n",
    "\n",
    "Below we explain the metadata and which fields are mandatory, optional or system defined (read only) when uploading and retrieving time series."
   ]
  },
  {
   "cell_type": "markdown",
   "metadata": {
    "id": "d4A19-Mi2Ju4"
   },
   "source": [
    "### Time Series Metadata\n",
    "The time series meta data consists of numerous attributes that are explained below. Some are mandatory, some optional and some are created by Lizard."
   ]
  },
  {
   "cell_type": "markdown",
   "metadata": {
    "id": "uTW-bEMb2L5S"
   },
   "source": [
    "| **Attribute** | **Example** | **Requirement**| **Format**\n",
    "|:------|:------|:------|:------|\n",
    "|   **UUID**  | 744b7703-0423-4f1e-b15d-1b36d9dd8dde |Read only| string(36)\n",
    "|   **Code**  | NEERSG::second::1::86400 |Mandatory| string(128)\n",
    "|   **Name**  | NEERSG |Optional| string(64)\n",
    "|   **Description**  | Timeseries of precipitation |Optional| string, empty string allowed, null allowed\n",
    "|   **Start**  | 2020-07-02T08:56:36Z |Read only| string in ISO 8601 format\n",
    "|   **End**  | 2020-08-02T08:56:36Z |Read only| string in ISO 8601 format\n",
    "|   **Value_type**  | float |Mandatory| \"integer\" or 0, \"float\" or 1 \"boolean\" or 2, \"text\" or 4, \"image\" or 5, \"movie\" or 8, \"file\" or 10, \"float array\" or 12\n",
    "|   **Interval**  | 86400 |Optional| positive integer or 0 (expressed in seconds), null is allowed\n",
    "|   **Observation_type**  | 441 |Mandatory| integer (foreign key to any of https://demo.lizard.net/api/v4/observationtypes/)\n",
    "|   **Datasource**  | 6 |Optional| integer (foreign key to any of https://demo.lizard.net/api/v4/datasources/)\n",
    "|   **Supplier**  | john.doe |Optional| string (recommended to use your own username or the one from your service account)\n",
    "|   **Supplier_code**  | john_doe_precipitation |Optional| string(256), empty string or null is allowed\n",
    "|   **Location**  | 6eb648bf-c5a4-4566-ac7a-1311ec69921c |Mandatory| string(36), create your own location or choose any of https://demo.lizard.net/api/v4/locations/)\n",
    "|   **Extra_metadata**  | {\"bla1\": bla1,\"bla2\": bla2,\"bla3\": bla3,\"bla4\":bla4} |Optional| valid JSON, null is NOT allowed\n",
    "|   **Created**  | 2020-04-02T08:56:36Z |Read only| string in ISO 8601 format\n",
    "|   **Last_modified**  | 2020-07-02T08:56:36Z |Read only | string in ISO 8601 format"
   ]
  },
  {
   "cell_type": "markdown",
   "metadata": {
    "id": "xyrx9Yrp2Rkh"
   },
   "source": [
    "### Time Series Events\n",
    "Time Series Events, or the actual values per time step, consist of a few attributes. An example is visible below this section."
   ]
  },
  {
   "cell_type": "markdown",
   "metadata": {
    "id": "oZ0rqyNu2XMs"
   },
   "source": [
    "| **Attribute** | **Example** | **Requirement**| **Format**\n",
    "|:------|:------|:------|:------|\n",
    "|   **Time**  | 2020-04-23T00:00:00Z |Mandatory|string in ISO8601 format\n",
    "|   **Value**  | 1.709 |Optional|number, string or boolean (depends on given value_type attributa in time series object metadata\n",
    "|   **Flag**  | 5 |Optional|integer\n",
    "|   **Comment**  | Reliable |Optional|string\n",
    "|   **Last_modified**  | 2020-04-23T00:00:00Z |Read only|number, string or boolean (depends on given value_type attributa in time series object metadata\n",
    "|   **Detection_limit**  | < |Optional|<, > or empty string"
   ]
  },
  {
   "cell_type": "markdown",
   "metadata": {
    "id": "jix23byqpTFw"
   },
   "source": [
    "# The Lizard API explained\n",
    "The [Lizard API](https://demo.lizard.net/api/v4/timeseries) is a [RESTful API](https://restfulapi.net/). The API responses will be returned in [JSON format](https://www.json.org/json-en.html). You can use HTTP requests to interact with Lizard using the API."
   ]
  },
  {
   "cell_type": "markdown",
   "metadata": {
    "id": "vnj53_KipTFw"
   },
   "source": [
    "### HTTP Methods to use in the Lizard API\n",
    "**GET** = use the GET method to retrieve existing time series metadata or time series events from the Lizard API <br>\n",
    "**POST** = use the POST method to create a time series object and upload a time series and it's metadata <br>\n",
    "**PUT** = use the PUT method to update time series metadata or time series events of an existing time series object<br>\n",
    "**PATCH** = use the PATCH method to partially update time series metadata or time series events of an existing time series object <br>\n",
    "**DELETE** = use the DELETE method to delete and existing time series object, it's metadata and events <br>"
   ]
  },
  {
   "cell_type": "markdown",
   "metadata": {
    "id": "48c5pfSD1WtR"
   },
   "source": [
    "### Response\n",
    "This is an example of a paginated API response in JSON. The default amount of objects the API returns is 10. You can extend the response size using the `page_size=` query parameter"
   ]
  },
  {
   "cell_type": "markdown",
   "metadata": {
    "id": "V2PCKwibjxHN"
   },
   "source": [
    "```\n",
    "{\n",
    "    \"count\": 9925,\n",
    "    \"next\": \"https://demo.lizard.net/api/v4/timeseries/e849123b-19eb-43a4-ae16-f3cb05a9dea7/events/?page=2&time__gte=2020-04-23T00%3A00%3A00\",\n",
    "    \"previous\": null,\n",
    "    \"results\": [\n",
    "        {\n",
    "            \"time\": \"2020-04-23T00:00:00Z\",\n",
    "            \"value\": 1.709,\n",
    "            \"flag\": 0,\n",
    "            \"validation_code\": \"\",\n",
    "            \"comment\": \"\",\n",
    "            \"last_modified\": \"2020-04-25T03:58:56.839756Z\",\n",
    "            \"detection_limit\": \"\"\n",
    "        },\n",
    "        {\n",
    "            \"time\": \"2020-04-23T00:15:00Z\",\n",
    "            \"value\": 1.71,\n",
    "            \"flag\": 0,\n",
    "            \"validation_code\": \"\",\n",
    "            \"comment\": \"\",\n",
    "            \"last_modified\": \"2020-04-25T03:58:56.839898Z\",\n",
    "            \"detection_limit\": \"\"\n",
    "        },\n",
    "        {\n",
    "            \"time\": \"2020-04-23T00:30:00Z\",\n",
    "            \"value\": 1.71,\n",
    "            \"flag\": 0,\n",
    "            \"validation_code\": \"\",\n",
    "            \"comment\": \"\",\n",
    "            \"last_modified\": \"2020-04-25T03:58:56.839985Z\",\n",
    "            \"detection_limit\": \"\"\n",
    "        }\n",
    "    ]\n",
    "}\n",
    "```"
   ]
  },
  {
   "cell_type": "markdown",
   "metadata": {
    "id": "hmZM8s-DpTFx"
   },
   "source": [
    "## Tutorial start\n",
    "Now let's start the tutorial.\n",
    "\n",
    "As discussed, there are multiple ways to interact with the API. In this tutorial we will get to know the GET, POST and PATCH commands.\n",
    "\n",
    "1. We will begin by using the POST command to create a new time series.\n",
    "2. Then we will use the PATCH command to update/change the data of the timeseries created in step 1.\n",
    "3. Finally we will access the data with the GET functionality.\n",
    "\n",
    "These tools will give you a solid basis to interact with timeseries of the API.\n",
    "These API commands also work for other objects, like rasters.\n",
    "Rasters have their own tutorial which can be found in [Interactive Rasters API manual](https://docs.lizard.net/d_apitutorials.html#interactive-rasters-api-manual)."
   ]
  },
  {
   "cell_type": "markdown",
   "metadata": {
    "id": "9SnHdbpSpTFy"
   },
   "source": [
    "# 0. Installing Python dependencies"
   ]
  },
  {
   "cell_type": "markdown",
   "metadata": {
    "id": "7wxXyiJHpTFy"
   },
   "source": [
    "Before starting the tutorial, we have to make sure the correct packages are available.\n",
    "Using Jupyter Notebook, the manual creating of a [virtual environment](https://docs.python.org/3/library/venv.html) is necessary.\n",
    "Instructions are written for Windows, Linux users are expected to figure it out themselves.\n",
    "When using [Google Colab](https://colab.research.google.com/github/nens/lizard-docs/blob/master/source/files/tutorials/Lizard_Time_Series_API_V4_Tutorial.ipynb), the environment is automatically managed."
   ]
  },
  {
   "cell_type": "markdown",
   "metadata": {
    "id": "fx2AoF-RAlf-"
   },
   "source": [
    "### Jupyter Notebook\n",
    "When using Jupyter Notebook, it's recommended to create the Jupyter Kernel in a Python virtual environment.\n",
    "Once created and activated, packages can be installed in the environment with Conda or pip.\n",
    "It is expected that Python and Jupyter Notebook are already installed."
   ]
  },
  {
   "cell_type": "markdown",
   "metadata": {
    "id": "hlk0hK3KAVFJ"
   },
   "source": [
    "1. Open a new terminal of the `cmd` command prompt.\n",
    "2. Navigate to a directory where you want to install your virtual environment.\n",
    "   - Navigate to a directory by running the command `cd {directory}`.\n",
    "3. Create the virtual environment in the selected directory.\n",
    "   - Run: `py -m venv {virtual environment name}`.\n",
    "   - Example, run: `py -m venv lizard`.\n",
    "4. Activate the environment.\n",
    "   - Run: `./{virtual environment name}\\Scripts\\activate.bat\"`.\n",
    "   - You should now see `({virtual environment name})` before the terminal line.\n",
    "5. Create a Jupyter kernel.\n",
    "   - Run: `ipython kernel install --user --name=lizard`.\n",
    "6. Download the [requirements.txt](https://github.com/nens/lizard-docs/blob/master/source/files/tutorials/requirements.txt) file which describes the required packages.\n",
    "    - Example: `wget -O requirements.txt https://raw.githubusercontent.com/nens/lizard-docs/master/source/files/tutorials/requirements.txt`\n",
    "7. To install the packages.\n",
    "    - Run: `pip install -r \\path\\to\\requirements.txt.\n",
    "    - Example: `pip install -r C:\\Users\\steven\\Downloads\\requirements.txt`.\n",
    "8. Open the Jupiter Notebook from inside the environment.\n",
    "   - Run: `jupyter notebook`.\n",
    "\n",
    "Once Jupiter has started open this notebook, the created kernel can be selected through the menu.\n",
    "Next step is installing the missing package in the new kernel."
   ]
  },
  {
   "cell_type": "markdown",
   "metadata": {
    "id": "En0-S9E1AfNB"
   },
   "source": [
    "### Google Colab\n",
    "When using the notebook in [Google Colab](https://colab.research.google.com/github/nens/lizard-docs/blob/master/source/files/tutorials/Lizard_Time_Series_API_V4_Tutorial.ipynb), setup of a kernel isn't necessary.\n",
    "Required packages can be installed directly in the coding environment.\n",
    "In the following snippet, the `requirments.txt` file is downloaded, and the contained packages are then installed using pip."
   ]
  },
  {
   "cell_type": "code",
   "execution_count": null,
   "metadata": {
    "colab": {
     "base_uri": "https://localhost:8080/"
    },
    "id": "bHaEtE7nj7l8",
    "outputId": "bd415c2b-5d34-485b-dd1d-84261f120cfd"
   },
   "outputs": [],
   "source": [
    "!wget -O requirements.txt https://raw.githubusercontent.com/nens/lizard-docs/master/source/files/tutorials/requirements.txt\n",
    "%pip install -r requirements.txt"
   ]
  },
  {
   "cell_type": "markdown",
   "metadata": {
    "id": "qIUrWx67DJNm"
   },
   "source": [
    "# 1. Importing Python dependencies\n",
    "The following snippet installs the required modules, we have just installed, to run the code."
   ]
  },
  {
   "cell_type": "code",
   "execution_count": null,
   "metadata": {
    "id": "hX3ZywfQpTFz"
   },
   "outputs": [],
   "source": [
    "import csv\n",
    "import datetime\n",
    "import getpass\n",
    "import json\n",
    "import os\n",
    "import pickle\n",
    "import sys\n",
    "\n",
    "import matplotlib.pyplot as plt\n",
    "import pandas as pd\n",
    "import requests\n",
    "from pandas.io.json import _normalize as json_normalize"
   ]
  },
  {
   "cell_type": "markdown",
   "metadata": {
    "id": "PyU7t2OTpTF3"
   },
   "source": [
    "# 2. How to authenticate with Lizard\n",
    "Authenticating to the REST API outside of a browser is done by attaching a Personal API Key to every request. You can attach a Personal API Key to a request by using HTTP Basic Authentication with password = {your api key}. The username needs to be fixed to `__key__` (with two underscores on both sides of the word “key”).\n",
    "\n",
    "**How to generate an API key in 6 easy steps**\n",
    "1. Go to your organisations lizard portal https://{organisation}.lizard.net or https://demo.lizard.net\n",
    "2. Click on `management`\n",
    "3. Click on `personal api keys`\n",
    "4. Click on `+ NEW ITEM`\n",
    "5. Give an easy to remember name to the key and click `save`\n",
    "6. Copy the key and put it into this file as password.\n",
    "\n",
    "While you cannot access the key through the management screen anymore if you lose it, you are able to delete the old key and generate a new one.\n",
    "\n",
    "It is considered best practise to generate one Personal API Key per application or script, so that you can selectively revoke keys in case they are compromised. Learn more about Lizard's authorization and authentication model via https://docs.lizard.net/d_apitechnical.html#\n"
   ]
  },
  {
   "cell_type": "code",
   "execution_count": null,
   "metadata": {
    "id": "PZYpvRuKpTF3"
   },
   "outputs": [],
   "source": [
    "# Authentication\n",
    "username = '__key__'\n",
    "password = '...'    # Generate your own API key at the Lizard Management page as practice\n",
    "\n",
    "json_headers = {\n",
    "            \"username\": username,\n",
    "            \"password\": password,\n",
    "            \"Content-Type\": \"application/json\",\n",
    "        }"
   ]
  },
  {
   "cell_type": "markdown",
   "metadata": {
    "id": "NFdpUtVppTF8"
   },
   "source": [
    "# 3. How to create a time series object and upload time series events using the POST method?"
   ]
  },
  {
   "cell_type": "markdown",
   "metadata": {
    "id": "roi88MArpTF9"
   },
   "source": [
    "To upload time series to Lizard we will go through 4 steps, namely:\n",
    "    \n",
    "   1. Making sure the time series data has the right format.\n",
    "   2. Creating a new location object to link the time series data to.\n",
    "   3. Creating a time series object and linking it to a location.\n",
    "   4. Upload the time series events data to your newly created time series object."
   ]
  },
  {
   "cell_type": "markdown",
   "metadata": {
    "id": "qyy8ryzUpTF-"
   },
   "source": [
    "**Step 1: Put your time series events data in the right format**\n",
    "\n",
    "To be able to upload your time series events data to Lizard, the timeseries have to be in a specific data format.\n",
    "You can use the python library pandas to modify your time series events data.\n",
    "Every time series measurement requires a datetime and a value.\n",
    "The correct format is as follows:\n",
    "\n",
    "\n",
    "[{'time': '2019-01-28T15:44:13Z', 'value': 0.000471},<br>\n",
    "{'time': '2019-01-28T15:45:07Z', 'value': 0.00045}]"
   ]
  },
  {
   "cell_type": "code",
   "execution_count": null,
   "metadata": {
    "id": "O1DhNsV6jxHR"
   },
   "outputs": [],
   "source": [
    "# Here is a test time series, feel free to import your own or adjust the data as much as you would like\n",
    "\n",
    "time_series =   [{'time': '2019-01-27T12:00:00Z', 'value': '0.03'},\n",
    "                 {'time': '2019-01-28T00:00:00Z', 'value': '0.036'},\n",
    "                 {'time': '2019-01-28T12:00:00Z', 'value': '0.05'},\n",
    "                 {'time': '2019-01-29T00:00:00Z', 'value': '0.055'},\n",
    "                 {'time': '2019-01-29T12:00:00Z', 'value': '0.025'},\n",
    "                 {'time': '2019-01-30T00:00:00Z', 'value': '0.04'},\n",
    "                 {'time': '2019-02-01T00:00:00Z', 'value': '0.08'},\n",
    "                 {'time': '2019-02-03T12:00:00Z', 'value': '0.04'},\n",
    "                 {'time': '2019-02-06T00:00:00Z', 'value': '0.015'},\n",
    "                 {'time': '2019-02-25T12:00:00Z', 'value': '0.005'}]"
   ]
  },
  {
   "cell_type": "markdown",
   "metadata": {
    "id": "2RdL2EM4pTF_"
   },
   "source": [
    "**Step 2: Create a location to relate the time series to a geographical location**\n",
    "\n",
    "Time series in Lizard are always related to a geographical location as they represent measurements in our physical environment. Therefore, before uploading the time series events data, Lizard has to know where (geographically) the time series were measured. For this purpose you must create a location, this will become visible as one possible location in the locations API page (demo.lizard.net/api/v4/locations). Once we have created this location we can link our time series data to the location to create an actual time series. To create a new location the following API request must be caried out:\n",
    "\n",
    "**How to find your organisations uuid!**\n",
    "To be able to access the API here, you need to enter the organisations for which your API key gives acces. You can find your organisations uuid as follows:\n",
    "\n",
    "1. Use the lizard API to look up your organisation: https://demo.lizard.net/api/v4/organisations/?name__istartswith=\n",
    "2. After the link you add your organisations name, like Nelen (& Schuurmans) -> https://demo.lizard.net/api/v4/organisations/?name__istartswith=Nelen\n",
    "3. You will then see a list of organisations with each an: url, uuid and a name. Choose the uuid of the correct organisation and use it in the next code block.\n",
    "\n",
    "\n",
    "**Data model of a Location**\n",
    "* **name**: e.g. 'Groundwater station 1'\n",
    "* **access_modifier**: 0 for public, 100 for common, 200 for private\n",
    "* **code**: each location has a unique code\n",
    "* **organisation**: a uuid (universal id) which is connected to the organisation. You can find the uuid's of the organisations here: https://nens.lizard.net/api/v4/organisations/\n",
    "* **geometry**: the geometry should be a point geometry in geojson format and in the EPSG:4326 projection\n",
    "* **ddsc_show_on_map**: If set to True, this location is directly shown in Lizard"
   ]
  },
  {
   "cell_type": "code",
   "execution_count": null,
   "metadata": {
    "id": "8c8D_ZqNpTGB"
   },
   "outputs": [],
   "source": [
    "# Look up the organisation uuid as explained above.\n",
    "organisation_uuid = '...' # Give the organisation uuid for which you have rights.\n",
    "location_url = \"https://demo.lizard.net/api/v4/locations/\"\n",
    "\n",
    "# Fill in the additional data required!\n",
    "\n",
    "data = {'name':'...', # Give a name to your location\n",
    "        'access_modifier':., # Determine what access modifier you want to give the location, supply an integer\n",
    "        'code':'...', # Give a unique code for your location (can be letters and numbers)\n",
    "        'organisation': organisation_uuid,\n",
    "        'geometry':{\n",
    "                \"type\": \"Point\",\n",
    "                \"coordinates\": [\n",
    "                    4.683839188453384,\n",
    "                    52.49446759721568,\n",
    "                    0.0\n",
    "                ]\n",
    "            },\n",
    "          'ddsc_show_on_map':True}\n",
    "\n",
    "r = requests.post(url=location_url, data=json.dumps(data), headers=json_headers)\n",
    "\n",
    "print(r.json())"
   ]
  },
  {
   "cell_type": "markdown",
   "metadata": {
    "id": "-EnFbg9NpTGI"
   },
   "source": [
    "We have now created a new location, the uuid will be unique for every newly generated location. The output of the codeblock will give you all relevant information.\n",
    "If you somehow lost the information, you can lookup your location in the sameway as the organisations uuid. <br>\n",
    "\n",
    "https://demo.lizard.net/api/v4/locations/?name__startswith={the_name_you_used}"
   ]
  },
  {
   "cell_type": "code",
   "execution_count": null,
   "metadata": {
    "id": "-m5M4FUPjxHS"
   },
   "outputs": [],
   "source": [
    "location_uuid = ''"
   ]
  },
  {
   "cell_type": "markdown",
   "metadata": {
    "id": "eGyLAzwipTGJ"
   },
   "source": [
    "**Step 3: Create a time series object and relate it to a location**\n",
    "    \n",
    "The next step is to create a new time series object. This new object has to be connected to the location created above. We give the following arguments to the api request:\n",
    "* **name**: \"groundwater head\" -> can help you find your time series later\n",
    "* **access_modifier**: 0 for public, 1 for common, 2 for private -> determines who has access to your time series\n",
    "* **code**: \"groundwater_head_v1\" -> has to be unique\n",
    "* **supplier**: choose your username\n",
    "* **location**: give the locations uuid (or the on you just generated)\n",
    "* **value_type**: 1, can be can be: \"integer\" or 0 | \"float\" or 1 | \"boolean\" or 2 | \"text\" or 4 | \"image\" or 5 | \"movie\" or 8 | \"file\" or 10 | \"float array\" or 12 |\n",
    "* **observation_type**: 845 (for hydraulic head). Other observation types can be found here: https://demo.lizard.net/api/v4/observationtypes/."
   ]
  },
  {
   "cell_type": "code",
   "execution_count": null,
   "metadata": {
    "id": "NUZ0uZLEpTGJ"
   },
   "outputs": [],
   "source": [
    "timeseries_url = \"https://demo.lizard.net/api/v4/timeseries/\"\n",
    "\n",
    "# In this example we will use the observation type 'hydraulic head'\n",
    "observation_code = ... # Give the code for hydraulic head\n",
    "\n",
    "data = {'name':'', # Give a name to your location\n",
    "        'access_modifier':, # Determine what access modifier you want to give the location, supply an integer\n",
    "        'code':'', # Give a unique code for your location (can be letters and numbers)\n",
    "        'location': location_uuid,\n",
    "        'value_type':1,\n",
    "        'observation_type': observation_code,\n",
    "        'timeseries_type':None}\n",
    "\n",
    "r = requests.post(url=timeseries_url,\n",
    "                  data=json.dumps(data),\n",
    "                  headers=json_headers)\n",
    "\n",
    "print(r.json())"
   ]
  },
  {
   "cell_type": "markdown",
   "metadata": {
    "id": "2DAfpF64pTGU"
   },
   "source": [
    "**Step 4: Upload the time series events data to your newly created time series object**"
   ]
  },
  {
   "cell_type": "markdown",
   "metadata": {
    "id": "1esYlBEspTGW"
   },
   "source": [
    "In step 3 we have created a new timeseries in Lizard. This time series object now has a UUID. We now use this UUID to upload the data to the Lizard Time Series Server."
   ]
  },
  {
   "cell_type": "code",
   "execution_count": null,
   "metadata": {
    "id": "Ko5MEZ5MpTGX"
   },
   "outputs": [],
   "source": [
    "timeseries_uuid = '...' # Supply the uuid of the timeseries you have created.\n",
    "\n",
    "data_url = timeseries_url + timeseries_uuid + '/events/'\n",
    "\n",
    "r = requests.post(url=data_url,\n",
    "                   data=json.dumps(time_series),\n",
    "                   headers=json_headers)"
   ]
  },
  {
   "cell_type": "markdown",
   "metadata": {
    "id": "we1dK3_KpTGe"
   },
   "source": [
    "# 4. How to create/update values and metadata of a time series object using the POST method"
   ]
  },
  {
   "cell_type": "markdown",
   "metadata": {
    "id": "Py4FkVqWUZul"
   },
   "source": [
    "**Step 1: Import the timeseries events of which the metadata or values should be adjusted**\n",
    "\n",
    "We are accessing our time series with the use of a `GET` request.\n",
    "Once we have the data, we can adjust it and then return it to the server."
   ]
  },
  {
   "cell_type": "code",
   "execution_count": null,
   "metadata": {
    "id": "iBfjwZaYpTGg"
   },
   "outputs": [],
   "source": [
    "# We can re-use the data_url from the prior code block, this time we will request the data with the `GET` functionality\n",
    "res = requests.get(data_url,headers=json_headers).json()['results']\n",
    "\n",
    "# Convert the response to a printable dataframe\n",
    "events =  pd.DataFrame(res)\n",
    "events.index = pd.to_datetime(events['time'])\n",
    "print(events[0:5])\n"
   ]
  },
  {
   "cell_type": "markdown",
   "metadata": {
    "id": "qN2glceeUoT4"
   },
   "source": [
    "**Step 2: Adjust the values and metadata of the timeseries events**\n",
    "\n",
    "The following attributes can be set (depending on the value type).<br>\n",
    "\n",
    "Depending on the value_type of the corresponding time series, the following fields may be set:\n",
    "* `time`: ISO 8601 date and time representation. This is a required field.\n",
    "\n",
    "* `value`: A number, string, or boolean, depending on the value_type of the corresponding time series. Nullable for numbers. Since float is the most commonly used value_type, numbers are predominant.\n",
    "\n",
    "* `flag`: A small integer. Nullable. Not available for booleans.\n",
    "\n",
    "* `validation_code`: A string of at most 3 characters. Available for numbers and booleans.\n",
    "\n",
    "* `comment`: A string. Available for numbers and booleans.\n",
    "\n",
    "* `detection_limit`: Either \"\", \"<\", or \">\". Only available for numbers.\n"
   ]
  },
  {
   "cell_type": "code",
   "execution_count": null,
   "metadata": {
    "id": "bCW81tM5VLj7"
   },
   "outputs": [],
   "source": [
    "# Copy the table to work with it in a new variable\n",
    "events_edit = events.copy()\n",
    "events_edit['flag'] = '100' # Insert new value\n",
    "events_edit['comment'] = \"This is a test timeseries!\" # Insert new value\n",
    "events_edit=events_edit[['time','value','flag','comment']]\n",
    "\n",
    "# To change a single value, use the 'iat' functionality within pandas\n",
    "# The first number is the row, the second is the column.\n",
    "events_edit.iat[0,3] = \"This is the first comment!\"\n",
    "\n",
    "print(events_edit)"
   ]
  },
  {
   "cell_type": "markdown",
   "metadata": {
    "id": "5TYnAwRmV6h-"
   },
   "source": [
    "**Step 3: Submit the changes to the lizard api by means of a POST request** <br>\n",
    "While normally patching is used to change values with the API, for the time series events page PATCH is not allowed. You can inspect what functionality is allowed at the upper section of every API. In the next block of code we will: <br>\n",
    "\n",
    "1. Convert our data back to a json file.\n",
    "2. Use a `POST` request to send the data to the API.\n",
    "3. Use a `GET` request to retrieve the updated data.\n",
    "4. Check if the data has been updated with a print statement."
   ]
  },
  {
   "cell_type": "code",
   "execution_count": null,
   "metadata": {
    "id": "Vqz4iN4GWDvE"
   },
   "outputs": [],
   "source": [
    "# Convert data to json\n",
    "dataupload = eval(events_edit[['time','value','flag','comment']].to_json(orient='records'))\n",
    "\n",
    "# Send the 'post' request\n",
    "res = requests.post(url=data_url,\n",
    "                    data=json.dumps(dataupload),\n",
    "                    headers=json_headers)\n",
    "\n",
    "# Send the 'get' request\n",
    "res = requests.get(data_url,headers=json_headers).json()['results']\n",
    "\n",
    "# Inspect the results\n",
    "updated_table =  pd.DataFrame(res)\n",
    "updated_table.index = pd.to_datetime(updated_table['time'])\n",
    "print(updated_table[0:5])"
   ]
  },
  {
   "cell_type": "markdown",
   "metadata": {
    "id": "6HaQ9jRApTGm"
   },
   "source": [
    "# 5. How to delete a single event from a time series using the DELETE method?\n",
    "\n",
    "For deleting it is important you are using the right URL, you do not want to delete data you need later. <br>\n",
    "Apart from that, it is relatively straightforward. For a time series we can use the datetime to select the event we want to delete. Use one of the dates (like 2019-01-29T12:00:00Z in the example) as date variable."
   ]
  },
  {
   "cell_type": "code",
   "execution_count": null,
   "metadata": {
    "id": "RFOw4Yl8pTGo",
    "scrolled": true
   },
   "outputs": [],
   "source": [
    "date = '2019-01-29T12:00:00Z'\n",
    "url = 'https://demo.lizard.net/api/v4/timeseries/{}/events/{}/'.format(timeseries_uuid, date)\n",
    "res = requests.delete(url=url,\n",
    "                       headers=json_headers)"
   ]
  },
  {
   "cell_type": "markdown",
   "metadata": {
    "id": "lckOQM-xpTGv"
   },
   "source": [
    "# 6. How to query a list of time series objects?\n",
    "\n",
    "At this point we have already done this multiple times to access and edit the data. But lets take a different timeseries and inspect it. <br>\n",
    "Go to https://demo.lizard.net/api/v4/timeseries/ and find yourself a new timeseries to inspect. Pick anyone."
   ]
  },
  {
   "cell_type": "code",
   "execution_count": null,
   "metadata": {
    "id": "8gawxMkVpTGw"
   },
   "outputs": [],
   "source": [
    "# Remember that the time series information is found in the .../timeseries/{uuid}/events/ page.\n",
    "new_uuid = '...' # place the uuid of the new timeseries of interest here.\n",
    "new_timeseries_events_url = 'https://demo.lizard.net/api/v4/timeseries/{}/events/'.format(new_uuid)\n",
    "\n",
    "# Retrieve the 'results' attribute using a JSON interpreter\n",
    "data = requests.get(new_timeseries_events_url,headers=json_headers)\n",
    "\n",
    "# Read the first 5 results of the json() file into the pandas dataframe.\n",
    "print(pd.DataFrame(data.json()['results'][0:5]))\n"
   ]
  },
  {
   "cell_type": "markdown",
   "metadata": {
    "id": "29CgGW2KFFZl"
   },
   "source": [
    "# 7. How to filter time series objects by metadata attributes?\n"
   ]
  },
  {
   "cell_type": "markdown",
   "metadata": {
    "id": "l_AgAe-npTG1"
   },
   "source": [
    "### Available query parameters\n",
    "To filter time series objects by metadata attributes you can use the following query parameters:\n",
    "\n",
    "`?name={name}` -> use the exact `name` to find your time series.\n",
    "\n",
    "`?name__startswith={name_start}` -> only requires the start of the name. <br><br>\n",
    "\n",
    "Like this there are many possible ways to look for time series. Some more examples are:\n",
    "\n",
    "`?code=abc&location__uuid=b10eaf1f-2867-4ffb-8f4a-5eb9bd37dbf1`\n",
    "\n",
    "`?code__startswith=a&location__uuid=b10eaf1f-2867-4ffb-8f4a-5eb9bd37dbf1`\n",
    "\n",
    "`?value_type=float`\n",
    "\n",
    "`?observation_type=1`\n",
    "\n",
    "`?observation_type__id=1`\n",
    "\n",
    "`?observation_type__code=my-code`\n",
    "\n",
    "`?observation_type__code__startswith=my-c`\n",
    "\n",
    "`?datasource=1`\n",
    "\n",
    "`?datasource__id=1`\n",
    "\n",
    "`?datasource__uuid=b10eaf1f-2867-4ffb-8f4a-5eb9bd37dbf1`\n",
    "\n",
    "`?location__uuid=b10eaf1f-2867-4ffb-8f4a-5eb9bd37dbf1`\n",
    "\n",
    "`?location__organisation__uuid=b10eaf1f-2867-4ffb-8f4a-5eb9bd37dbf1`"
   ]
  },
  {
   "cell_type": "markdown",
   "metadata": {
    "id": "QZfqgPYqyy5Z"
   },
   "source": [
    "# 8. How to filter time series objects by their name?"
   ]
  },
  {
   "cell_type": "code",
   "execution_count": null,
   "metadata": {
    "id": "klxl-ZPMpTG2"
   },
   "outputs": [],
   "source": [
    "#Call the Lizard API V4 Time series endpoint & add ?name_startswith=\"N\"\n",
    "url = \"https://demo.lizard.net/api/v4/timeseries/\"\n",
    "params= {'name__startswith':'N'}\n",
    "\n",
    "#Retrieve the 'results' attribute using a JSON interpreter\n",
    "timeseries_list = pd.DataFrame(requests.get(url,headers=json_headers, params=params).json()['results'])\n",
    "timeseries_list[0:4] # print only the first 5 rows of the dataframe"
   ]
  },
  {
   "cell_type": "markdown",
   "metadata": {
    "id": "mQJI6WDaFK4T"
   },
   "source": [
    "# 9. Monitoring Networks"
   ]
  },
  {
   "cell_type": "markdown",
   "metadata": {
    "id": "oGh3UIsUVPDm"
   },
   "source": [
    "Monitoring networks allow you to group time series based on self-defined characteristics, e.g. by monitoring goal (surface water or weather) or observation type (water level, flow, temperature). Time series that are grouped by a monitoring network are listed in Lizard Catalogue where users can easily find the time series their interested in and open them in Lizard Portal or the API (https://demo.lizard.net/catalogue or https://[yourportal].lizard.net/catalogue). <br>\n",
    "\n",
    "One example of a monitoring network is the KNMI weatherstations group. These are different locations with individual measurements, but with similar attributes.\n",
    "\n",
    "<img style=\"float: left;\" src=\"https://docs.lizard.net/_images/e_catalog_10.png\" width=\"1000\"/>\n",
    "\n",
    "\n",
    "\n",
    "\n"
   ]
  },
  {
   "cell_type": "markdown",
   "metadata": {
    "id": "fboYunI_eA7G"
   },
   "source": [
    "### 1. How to create a monitoring network\n"
   ]
  },
  {
   "cell_type": "markdown",
   "metadata": {
    "id": "eipv0zR4enAd"
   },
   "source": [
    "To create a monitoring network, the following variables should be defined:"
   ]
  },
  {
   "cell_type": "code",
   "execution_count": null,
   "metadata": {
    "id": "c3MPX5EReG9T"
   },
   "outputs": [],
   "source": [
    "name = '...' # Give a name to your monitoring network\n",
    "\n",
    "# For the organisation_uuid -> Use the one used prior or find it via https://demo.lizard.net/api/v4/organisations/?name__icontains=\n",
    "\n",
    "acces_modifier = '.' # 0=public (Everyone can see this),\n",
    "                     # 1=common (logged-in users can see this),\n",
    "                     # 2=private (logged-in users with user rights to your organisation can see this),\n",
    "                     # 3=hidden (only admins of your organisatio can see this)\n",
    "description = 'This is a description of ...' # Description"
   ]
  },
  {
   "cell_type": "markdown",
   "metadata": {
    "id": "JLN3bduYeNYz"
   },
   "source": [
    "After defining the variables, store them in a json string and perform a post request:"
   ]
  },
  {
   "cell_type": "code",
   "execution_count": null,
   "metadata": {
    "id": "Df4c0ZJkeSR3"
   },
   "outputs": [],
   "source": [
    "# Add our individual elements into a data dictionary\n",
    "data = {'name': name,\n",
    "        'organisation': organisation_uuid,\n",
    "        'access_modifier': acces_modifier,\n",
    "        'description': description\n",
    "        }\n",
    "\n",
    "url = 'https://demo.lizard.net/api/v4/monitoringnetworks/'\n",
    "\n",
    "# Since we are creating a new monitoring network we are using the POST functionality again.\n",
    "res = requests.post(url = url,\n",
    "                    data = json.dumps(data),\n",
    "                    headers = json_headers)\n",
    "\n",
    "# get the information of the monitoring from the request response:\n",
    "response = res.json()\n",
    "print(response)"
   ]
  },
  {
   "cell_type": "markdown",
   "metadata": {
    "id": "4JiXv0a9esWV"
   },
   "source": [
    "Now, the created monitoringnetwork can be found in the catalogue under the given organisation"
   ]
  },
  {
   "cell_type": "markdown",
   "metadata": {
    "id": "FdrCRwG4etvp"
   },
   "source": [
    "### 2. How to add (multiple) timeseries to a monitoring network"
   ]
  },
  {
   "cell_type": "markdown",
   "metadata": {
    "id": "WKkBG8rAe5-7"
   },
   "source": [
    "We can use the uuid's of individual time series to add them to a monitoring network. <br>\n",
    "This can be effectively done by adding all uuids of the time series of interest in a list, an example can be found below:"
   ]
  },
  {
   "cell_type": "code",
   "execution_count": null,
   "metadata": {
    "id": "MHr7cpHne-Xf"
   },
   "outputs": [],
   "source": [
    "# We currently use the timeseries_uuid created, and the additional one we used for the second test.\n",
    "ts_list = [timeseries_uuid, new_uuid]\n",
    "\n",
    "# You can add more uuids if you want to."
   ]
  },
  {
   "cell_type": "markdown",
   "metadata": {
    "id": "CYoyvn75fE7n"
   },
   "source": [
    "Add the time series to the monitoring network with:"
   ]
  },
  {
   "cell_type": "code",
   "execution_count": null,
   "metadata": {
    "id": "SwPkzvNojxHV"
   },
   "outputs": [],
   "source": [
    "# If you lost the monitoring network uuid, you can find it with a `get` request\n",
    "url = \"https://demo.lizard.net/api/v4/monitoringnetworks/\"\n",
    "params= {'name__startswith':'...'} # Find your monitoring netweork with the beginning of the name -> case sensitive!\n",
    "\n",
    "#Retrieve the 'results' attribute using a JSON interpreter\n",
    "timeseries_list = pd.DataFrame(requests.get(url,headers=json_headers, params=params).json()['results'])\n",
    "timeseries_list[0:5] # print only the first 5 rows of the dataframe\n"
   ]
  },
  {
   "cell_type": "code",
   "execution_count": null,
   "metadata": {
    "id": "AOMkbC3LfEGq"
   },
   "outputs": [],
   "source": [
    "# Use your monitoringnetwork uuid to add (post) the list of time series to the network.\n",
    "monitoring_network_uuid = '...' # Read the monitoring network uuid from the prior code-block result\n",
    "url = 'https://demo.lizard.net/api/v4/monitoringnetworks/{}/timeseries/'.format(monitoring_network_uuid)\n",
    "res = requests.post(url = url, data = json.dumps(ts_list), headers = json_headers)"
   ]
  },
  {
   "cell_type": "markdown",
   "metadata": {
    "id": "C9G0d4qCfOJM"
   },
   "source": [
    "To get an overview of the time series in the monitoring network, perform a  `GET` request on the time series endpoint:"
   ]
  },
  {
   "cell_type": "code",
   "execution_count": null,
   "metadata": {
    "id": "tEOCb3_5fRqZ"
   },
   "outputs": [],
   "source": [
    "# Request the data from the monitoring network\n",
    "res = requests.get(url = url, headers = json_headers).json()\n",
    "\n",
    "# Store the results of the response in a dataframe\n",
    "network = pd.DataFrame(res['results'])\n",
    "\n",
    "# Check the first timeseries of the network\n",
    "print(network.iloc[0])"
   ]
  },
  {
   "cell_type": "markdown",
   "metadata": {
    "id": "HarCa7Z0f-A3"
   },
   "source": [
    "**Accessing individual time series from the monitoring network is easy.** <br>\n",
    "<br>\n",
    "The related locations are listed in the locations column of the network dataframe:"
   ]
  },
  {
   "cell_type": "code",
   "execution_count": null,
   "metadata": {
    "id": "-30oSJVkf9sp"
   },
   "outputs": [],
   "source": [
    "# See the location header, you might have to scroll right\n",
    "\n",
    "network.head()"
   ]
  },
  {
   "cell_type": "code",
   "execution_count": null,
   "metadata": {
    "id": "vK2BiLJYjxHW"
   },
   "outputs": [],
   "source": [
    "# We can find the location endpoints as followed\n",
    "network.location[1] # Note that this gives the second location as indexing starts at 0"
   ]
  },
  {
   "cell_type": "markdown",
   "metadata": {
    "id": "htDpyRnrjxHW"
   },
   "source": [
    "This way it is easy to find most of the relevant information to access the time series of interest."
   ]
  },
  {
   "cell_type": "markdown",
   "metadata": {
    "id": "8lRSTZrwgIHE"
   },
   "source": [
    "#### 3. Delete timeseries from a monitoringnetwork"
   ]
  },
  {
   "cell_type": "markdown",
   "metadata": {
    "id": "80NrbJBDgLK5"
   },
   "source": [
    "Just as easy as we can add a time series to the monitoring network we can remove one. <br>\n",
    "To do this a `DELETE` request is send to the timeseries endpoint of the monitoringnetwork:"
   ]
  },
  {
   "cell_type": "code",
   "execution_count": null,
   "metadata": {
    "id": "7ET7eg3TgMim"
   },
   "outputs": [],
   "source": [
    "# Show the timeseries available within the network\n",
    "print('Timeseries in monitoringnetwork:')\n",
    "url = 'https://demo.lizard.net/api/v4/monitoringnetworks/{}/timeseries/'.format(monitoring_network_uuid)\n",
    "timeseries = pd.DataFrame(requests.get(url = url, headers = json_headers).json()['results'])\n",
    "timeseries.head()\n",
    "\n",
    "# Removing the first time series\n",
    "delete_timeseries_uuid = [timeseries['uuid'][0]]\n",
    "print(\"The ID that will be deleted: \", delete_timeseries_uuid)"
   ]
  },
  {
   "cell_type": "code",
   "execution_count": null,
   "metadata": {
    "id": "M0wDb3FyjxHX"
   },
   "outputs": [],
   "source": [
    "# Delete the timeseries and check\n",
    "res = requests.delete(url=url, data = json.dumps(delete_timeseries_uuid), headers = json_headers)\n",
    "\n",
    "res = requests.get(url=url, headers=json_headers)\n",
    "network = pd.DataFrame(res.json()['results'])\n",
    "network.head()"
   ]
  },
  {
   "cell_type": "code",
   "execution_count": null,
   "metadata": {
    "id": "u5KJb6FZjxHX"
   },
   "outputs": [],
   "source": [
    "# Lets re-add the timeseries so we can remove it based on the location\n",
    "res = requests.post(url = url, data = json.dumps(ts_list), headers = json_headers)\n",
    "\n",
    "res = requests.get(url=url, headers=json_headers)\n",
    "network = pd.DataFrame(res.json()['results'])\n",
    "network.head()"
   ]
  },
  {
   "cell_type": "markdown",
   "metadata": {
    "id": "rpPGKe3kgW2H"
   },
   "source": [
    "### 4. Deleting monitoringnetworks\n",
    "\n",
    "You might want to remove a redundant or old monitoringnetwork. This can be done as followed:"
   ]
  },
  {
   "cell_type": "code",
   "execution_count": null,
   "metadata": {
    "id": "xopX6ig5gWOL"
   },
   "outputs": [],
   "source": [
    "url = 'https://demo.lizard.net/api/v4/monitoringnetworks/{}'.format(monitoring_network_uuid)\n",
    "res = requests.delete(url=url, headers = json_headers)"
   ]
  },
  {
   "cell_type": "markdown",
   "metadata": {
    "id": "owpCH7YTpTG6"
   },
   "source": [
    "# 10. How to query raw time series events?"
   ]
  },
  {
   "cell_type": "markdown",
   "metadata": {
    "id": "W_ewcSAXpTG7"
   },
   "source": [
    "The data of a time series can be queried via the time series `events` endpoint.<br>\n",
    "You will need the UUID of the time series object that can be found in the list of time series objects (see 6 and 7).\n",
    "**demo.lizard.net/api/v4/timeseries/**{uuid of time series object}**/events/**\n",
    "\n",
    "**Example**: https://demo.lizard.net/api/v4/timeseries/8c3bffcf-b0b7-4550-a5a9-c5220c29fede/events/\n",
    "\n",
    "We're going to query the precipitation time series of weather station \"De Bilt\" in The Netherlands, the example URL can be used for this.<br>\n",
    "If you have a different timeseries of interest feel free to use that one. <br>\n",
    "Just replace the uuid of the example with the one of your choice."
   ]
  },
  {
   "cell_type": "markdown",
   "metadata": {
    "id": "lRhBLJcdpTG9"
   },
   "source": [
    "### How to query time series events within a specific time frame\n",
    "\n",
    "Lets say we want to create a plot of the precipitation rate at the \"De Bilt\" weatherstation.<br>\n",
    "In order to be able to plot the data we need to do a few things:<br>\n",
    "1. Determine what information we want to ask of the API. This will determine the parameter settings.\n",
    "2. Retrieve the information with a `GET` request.\n",
    "3. Place the response inside a dataframe.\n",
    "4. Use the dataframe to build a plot.\n",
    "\n",
    "**Available query parameters**<br>\n",
    "If we want to specify the period of the timeseries we can use the `start` and `end` params. These use the ISO 8601 format: YYYY-MM-DDThh:mm:ssZ. With the T and Z being actual letters and the other letters resembling a measure of time:<br>\n",
    "* YYYY = Year -> Ex: 2023\n",
    "* MM = Month -> Ex: March = 03\n",
    "* DD = Day -> Ex: 5th day = 05\n",
    "* hh = Hours\n",
    "* mm = Minute\n",
    "* ss = second\n",
    "\n",
    "To determine the fields we want to get from the API we use the `fields` parameter. In our example we are interested in the value field.\n",
    "\n",
    "The final parameter we will use is the `page_size`. This determines the number of items returned on one page and it is important because only one page of data is returned. This means that if a timeseries has thousands of results, and we are interested in all values, we have to either iterate through all the pages or make the page very large.\n",
    "\n",
    "All of the available parameters can be found on the website of the API:<br>\n",
    "General timeseries API parameters: https://demo.lizard.net/api/v4/timeseries/ <br>\n",
    "Event timeseries API parameters: https://demo.lizard.net/api/v4/timeseries/8c3bffcf-b0b7-4550-a5a9-c5220c29fede/events <br>\n",
    "There are also examples available. We will just show some use cases in the next code blocks."
   ]
  },
  {
   "cell_type": "code",
   "execution_count": null,
   "metadata": {
    "id": "JsvGvAwxpTG9"
   },
   "outputs": [],
   "source": [
    "#Find the uuid of the timeseries you want to query\n",
    "uuid = \"8c3bffcf-b0b7-4550-a5a9-c5220c29fede\"\n",
    "# we're going to query request the data of the year 2010 to 2023 (the first of january for both)\n",
    "# Fill in the start and end values with the ISO 8601 notations: YYYY-MM-DDThh:mm:ssZ\n",
    "params= {'start':'', 'end':'', 'page_size':'100'} # Note that we use a page size of 100.\n",
    "url = \"https://demo.lizard.net/api/v4/timeseries/{}/events/\".format(uuid)\n",
    "\n",
    "#Retrieve the 'results' attribute of the response using a JSON interpreter\n",
    "time_series_events = pd.DataFrame(requests.get(url = url, headers = json_headers, params = params).json()['results'])\n",
    "time_series_events"
   ]
  },
  {
   "cell_type": "code",
   "execution_count": null,
   "metadata": {
    "id": "UQT_ZMYNpTHF",
    "scrolled": true
   },
   "outputs": [],
   "source": [
    "# Convert the data to a plot.\n",
    "plt.style.use('seaborn')\n",
    "time_series_events.set_index('time', inplace=True)\n",
    "time_series_events['value'].plot(figsize=(20,7))\n",
    "\n",
    "# Note that these plots can be edited in style with the use of all matplotlib styling tools."
   ]
  },
  {
   "cell_type": "markdown",
   "metadata": {
    "id": "inZHUj5qpTHH"
   },
   "source": [
    "### How to query time series events based on their value\n",
    "In this example we will use the parameters related to the `value`, the available ones are:\n",
    "* A plain equal (`=`)\n",
    "\n",
    "Or relational statements like:\n",
    "\n",
    "* 'greater than or equal' (`gte`)\n",
    "* 'greater then' (`gt`)\n",
    "* 'lower than or equal' (`lte`)\n",
    "* 'lower than' (`lt`).\n",
    "\n",
    "#### Examples\n",
    "\n",
    "Return all events where the value is greater than or equal to 0.05 and lower than 0.175 <br>\n",
    "`?value__gte=0.05&value__lt=0.175` <br>\n",
    "\n",
    "Return all events where the value is exactly 0.578 <br>\n",
    "`?value=0.578`<br>"
   ]
  },
  {
   "cell_type": "markdown",
   "metadata": {
    "id": "SIx5HX6-jxHY"
   },
   "source": [
    "### Querying extreme rainfall events from the \"De Bilt\" weatherstation\n",
    "If we would be interested in the extreme rainfall events surrounding the De Bilt weatherstation we could look for great precipitation rates.<br>\n",
    "1. For the first step we will query all events with a precipitation rate above 25 (mm)\n",
    "2. Secondly we will limit the timeperiod to the last 10 years with the `start` and `end` params"
   ]
  },
  {
   "cell_type": "code",
   "execution_count": null,
   "metadata": {
    "id": "28jD5ahLpTHI"
   },
   "outputs": [],
   "source": [
    "## STEP 1: QUERYING RAINFALL ABOVE 25MM\n",
    "\n",
    "# We can use the same uuid and URL as the last exercise. Therefore we only have to adjust the parameters.\n",
    "\n",
    "# We are interested in the extreme rainfall events above 25 mm.\n",
    "params= {'value__gte':'...', 'page_size':'...'} # Give a gte value and a page_size value\n",
    "\n",
    "#Retrieve the 'results' attribute of the response using a JSON interpreter\n",
    "time_series_events_above_reference_value = pd.DataFrame(requests.get(url=url,headers=json_headers, params=params).json()['results'])\n",
    "\n",
    "# Inspect the results\n",
    "time_series_events_above_reference_value"
   ]
  },
  {
   "cell_type": "code",
   "execution_count": null,
   "metadata": {
    "id": "oFTi0h97jxHY"
   },
   "outputs": [],
   "source": [
    "## STEP 2: LIMITING THE TIMESPAN TO THE PAST 10 YEARS\n",
    "\n",
    "# We just have to adjust the parameters, the URL can remain the same as we are querying from the same timeseries.\n",
    "# Now combine the knowledge of implementing timeperiods and values to look for all values higher than 27.5 between 2013 and 2023.\n",
    "# Remember times have to be in ISO 8601 format YYYY-MM-DDThh:mm:ssZ\n",
    "params= {'start': '...', 'end': '...', 'value__gte':'...', 'page_size':'...'}\n",
    "\n",
    "#Retrieve the 'results' attribute of the response using a JSON interpreter\n",
    "time_series_events_above_reference_value = pd.DataFrame(requests.get(url=url,headers=json_headers, params=params).json()['results'])\n",
    "\n",
    "# Inspect the results\n",
    "time_series_events_above_reference_value"
   ]
  },
  {
   "cell_type": "markdown",
   "metadata": {
    "id": "RJH3CkgvpTHM"
   },
   "source": [
    "### How to query time series events with a specific flag?\n",
    "You can retrieve time series events that have been assigned a specific flag. The flag can be used to indicate the validation status of a specific event.  \n",
    "\n",
    "#### Available query parameters\n",
    "You can use the following query parameters to query for events with a specific flag:\n",
    "\n",
    "`?flag=5`\n",
    "\n",
    "`?flag__gte=5` <br>\n",
    "gt, gte, lt, lte\n",
    "\n",
    "`?flag__in=5,6,7`"
   ]
  },
  {
   "cell_type": "code",
   "execution_count": null,
   "metadata": {
    "id": "dZiW0zTTpTHM"
   },
   "outputs": [],
   "source": [
    "# we're going to query request the data with the flag tag 0, 2 and 8\n",
    "# Try all three and see the difference\n",
    "params= {'page_size':'100', 'flag':'...'}\n",
    "\n",
    "#Retrieve the 'results' attribute of the response using a JSON interpreter\n",
    "time_series_events_with_flag = pd.DataFrame(requests.get(url=url,headers=json_headers, params=params).json()['results'])\n",
    "\n",
    "\n",
    "time_series_events_with_flag\n",
    "\n"
   ]
  },
  {
   "cell_type": "code",
   "execution_count": null,
   "metadata": {
    "id": "IrXA-2BZpTHP"
   },
   "outputs": [],
   "source": [
    "# Some flags might have all zero's (2), some might have no values at all (8), and others might have some zero's or different values (0).\n",
    "# Check it out, you might have to load the data with the `GET` request above.\n",
    "non_zero_df = time_series_events_with_flag[time_series_events_with_flag['value'] > 0]\n",
    "non_zero_df"
   ]
  },
  {
   "cell_type": "markdown",
   "metadata": {
    "id": "67y0h70XpTHR"
   },
   "source": [
    "### How to query time series events by validation code\n",
    "\n",
    "\n",
    "#### Available query parameters\n",
    "You can use the following query parameters to retrieve time series events with a specific validation code:\n",
    "\n",
    "`?validation_code=AA`\n",
    "\n",
    "`?validation_code__startswith=c`"
   ]
  },
  {
   "cell_type": "code",
   "execution_count": null,
   "metadata": {
    "id": "onM7ELx9pTHR"
   },
   "outputs": [],
   "source": [
    "# we're going to query request the data based on validation code. Define any letter\n",
    "params= {'validation_code__startswith':'...'}\n",
    "\n",
    "#Retrieve the 'results' attribute of the response using a JSON interpreter\n",
    "time_series_events_with_validation_code = pd.DataFrame(requests.get(url=url,headers=json_headers, params=params).json()['results'])\n",
    "\n",
    "# In this case there are no results as no data code seems to have a validation code.\n",
    "time_series_events_with_validation_code"
   ]
  },
  {
   "cell_type": "code",
   "execution_count": null,
   "metadata": {
    "id": "AYM_jrnZjxHY"
   },
   "outputs": [],
   "source": [
    "# Control if there are no validation codes\n",
    "params= {'validation_code__isnull':'False'}\n",
    "\n",
    "#Retrieve the 'results' attribute of the response using a JSON interpreter\n",
    "time_series_events_with_validation_code = pd.DataFrame(requests.get(url=url,headers=json_headers, params=params).json()['results'])\n",
    "\n",
    "# Read the results.\n",
    "time_series_events_with_validation_code"
   ]
  },
  {
   "cell_type": "markdown",
   "metadata": {
    "id": "1VaNNfp2pTHU"
   },
   "source": [
    "### How to query time series events by the date they were last modified\n",
    "\n",
    "#### Available query parameters\n",
    "To retrieve time series events by the time they were last modified you can use the following query parameters:\n",
    "\n",
    "`?last_modified__gte=2021-04-23T00:00:00`\n",
    "\n",
    "`?last_modified=2021-04-23T00:00:00`"
   ]
  },
  {
   "cell_type": "code",
   "execution_count": null,
   "metadata": {
    "id": "51KQpFHzpTHV"
   },
   "outputs": [],
   "source": [
    "# we're going to query request the data for a specific modification date\n",
    "params= {'page_size':'10', 'last_modified':'2020-11-19T15:37:19.906151Z'}\n",
    "\n",
    "#Retrieve the 'results' attribute of the response using a JSON interpreter\n",
    "time_series_events_by_date_last_modified = pd.DataFrame(requests.get(url=url,headers=json_headers, params=params).json()['results'])\n",
    "\n",
    "time_series_events_by_date_last_modified"
   ]
  },
  {
   "cell_type": "code",
   "execution_count": null,
   "metadata": {
    "id": "buXMRDztjxHZ"
   },
   "outputs": [],
   "source": [
    "# we're going to query request the data for a modification date greater than or equal to the previously queried date.\n",
    "params= {'page_size':'10', 'last_modified__gte':'2020-11-19T15:37:19.906151Z'}\n",
    "\n",
    "#Retrieve the 'results' attribute of the response using a JSON interpreter\n",
    "time_series_events_by_date_last_modified = pd.DataFrame(requests.get(url=url,headers=json_headers, params=params).json()['results'])\n",
    "\n",
    "time_series_events_by_date_last_modified"
   ]
  },
  {
   "cell_type": "markdown",
   "metadata": {
    "id": "ULT7QeTOpTHa"
   },
   "source": [
    "# 11. How to query aggregated time series events?"
   ]
  },
  {
   "cell_type": "markdown",
   "metadata": {
    "id": "nx9d3GcEpTHa"
   },
   "source": [
    "\n",
    "\n",
    "### Time series aggregates endpoint\n",
    "Sometimes you might be interested in the statistics of parts of a timeseries, for example the sum of a month or the maximum value within a year.\n",
    "This can be done through the `aggregates` API endpoint.\n",
    "We will again need the UUID of the time series object of interest in order to aggregate its events.   \n",
    "\n",
    "\n",
    "**demo.lizard.net/api/v4/timeseries/**{uuid of time series object}**/aggregates/**\n",
    "\n",
    "##### Example URL:\n",
    "https://demo.lizard.net/api/v4/timeseries/8c3bffcf-b0b7-4550-a5a9-c5220c29fede/aggregates/\n",
    "\n",
    "\n",
    "#### Available query parameters\n",
    "There are a few parameters that can be used for the aggregates endpoint. <br>\n",
    "Out of these, a few are **mandatory**:\n",
    "\n",
    "1. The start of the interval of interest:<br>\n",
    "`?start = 2019-01-01T00:00:00Z` <br>\n",
    "\n",
    "2. The end of the interval of interest:<br>\n",
    "`?end = 2020-01-01T00:00:00Z`<br>\n",
    "\n",
    "3. The list of aggregation fields that should be retrieved:<br>\n",
    "    * For numerical value types: <br>\n",
    "    `?fields = max, min, avg, sum, count, first, last, first_timestamp, last_timestamp, max_timestamp, min_timestamp, nans` <br>\n",
    "\n",
    "    * For boolean value types: <br>\n",
    "    `?fields = sum, first, count, last, first_timestamp, last_timestamp` <br>\n",
    "\n",
    "    * For string value types: <br>\n",
    "    `?fields = first, last, first_timestamp, last_timestamp, count` <br>\n",
    "\n",
    "\n",
    "*Other possible parameters:*\n",
    "1. strings can be prefixed with a multiplier e.g. 3week, 6months<br>\n",
    "`?window = hour, day, week, year` <br>\n",
    "\n",
    "2. Minimum amount of events to return. Specifying min_points yields the highest aggregation possible.<br>\n",
    "`?min_points= 100`<br\n",
    "\n",
    "3. The timezone associated with the temporal window. It defaults to \"UTC\".<br>\n",
    "`?timezone = UTC` <br>\n"
   ]
  },
  {
   "cell_type": "markdown",
   "metadata": {
    "id": "etPheSDSpTHb"
   },
   "source": [
    "### How to query the monthly sum of a time series?\n",
    "As we are accessing the aggregates endpoint now we need to switch the URL. <br>\n",
    "\n",
    "If we are interested in the cumulative precipitation for every month of the year 2019, we can use the aggregates endpoint. We should:\n",
    "\n",
    "1. Set the `start` (2019-01-01) and `end` (2020-01-01) dates as parameters. Remember, these values have to be in ISO 8601 format. <br>\n",
    "\n",
    "2. We then have to supply what results we want to return with the `fields` parameter. Minimally we would like to return the `sum` of all events. To improve the readability of the table we could add the `first_timestamp` and `last_timestamp`.<br>\n",
    "\n",
    "3. The aggregate window can be set with the `window` parameter. <br>\n",
    "\n",
    "Finally, make sure all results are visible on one page to be able to retrieve all information in your `GET` request. <br>\n",
    "*As we are dealing with a year it will only be 12 months and thus 12 items should be enough - A larger `page_size` can be a safe way to make sure you are getting all your data in your request.*"
   ]
  },
  {
   "cell_type": "code",
   "execution_count": null,
   "metadata": {
    "id": "r6E623BxpTHc"
   },
   "outputs": [],
   "source": [
    "# we want only the year 2019, so between 2019 and 2020. We want the sum fields, and the first and last timestamp. We want it aggregated by the month. And we want to make sure all data is on one page.\n",
    "params= {'start':'...', 'end':'...', 'fields':'...', 'window':'...', 'page_size':'...'}\n",
    "url = \"https://nens.lizard.net/api/v4/timeseries/{}/aggregates/\".format(uuid) #we use page size to include all values\n",
    "\n",
    "#Retrieve the 'results' attribute using a JSON interpreter\n",
    "timeseries_averaged_by_month = pd.DataFrame(requests.get(url=url,headers=json_headers, params=params).json()['results'])\n",
    "\n",
    "timeseries_averaged_by_month"
   ]
  },
  {
   "cell_type": "code",
   "execution_count": null,
   "metadata": {
    "id": "rmV3N2ZNpTHh"
   },
   "outputs": [],
   "source": [
    "# Convert the data to a plot.\n",
    "plt.style.use('seaborn')\n",
    "timeseries_averaged_by_month.set_index('last_timestamp', inplace=True)\n",
    "timeseries_averaged_by_month['sum'].plot.bar(figsize=(20,7))\n",
    "\n",
    "# Note that these plots can be edited in style with the use of all matplotlib styling tools."
   ]
  },
  {
   "cell_type": "markdown",
   "metadata": {
    "id": "jHqLHUzkpTHl"
   },
   "source": [
    "### How to query the maximum value of a time series for each year?"
   ]
  },
  {
   "cell_type": "code",
   "execution_count": null,
   "metadata": {
    "id": "z8sbLe6rpTHm"
   },
   "outputs": [],
   "source": [
    "# We want data between 2015 and 2020. We want the max, first and last timestamp. We want to aggregate it yearly. We want all data on one page.\n",
    "params= {'start':'...', 'end':'...', 'fields':'...', 'window':'...', 'page_size':'...'} # we want the original hourly value\n",
    "\n",
    "#Retrieve the 'results' attribute using a JSON interpreter\n",
    "timeseries_max_value_each_month = pd.DataFrame(requests.get(url=url,headers=json_headers, params=params).json()['results'])\n",
    "\n",
    "timeseries_max_value_each_month"
   ]
  },
  {
   "cell_type": "code",
   "execution_count": null,
   "metadata": {
    "id": "Zy_uaXhEpTHr"
   },
   "outputs": [],
   "source": [
    "# Convert the data to a plot.\n",
    "plt.style.use('seaborn')\n",
    "timeseries_max_value_each_month.set_index('last_timestamp', inplace=True)\n",
    "timeseries_max_value_each_month['max'].plot.bar(figsize=(20,7))\n",
    "\n",
    "# Note that these plots can be edited in style with the use of all matplotlib styling tools."
   ]
  },
  {
   "cell_type": "markdown",
   "metadata": {
    "id": "Vz02gl5upTHw"
   },
   "source": [
    "### How to query the count of values per week within a specific time frame?\n"
   ]
  },
  {
   "cell_type": "code",
   "execution_count": null,
   "metadata": {
    "id": "8FS0YDZ_pTHx"
   },
   "outputs": [],
   "source": [
    "# We want only the year 2019. We want the fields count, first and last timestamp. We want to aggregate it by the week. And we want all results on one page.\n",
    "params= {'start':'...', 'end':'...', 'fields':'...', 'window':'...', 'page_size':'...'} # we want the original hourly value\n",
    "\n",
    "#Retrieve the 'results' attribute using a JSON interpreter\n",
    "timeseries_count_of_values_in_time_frame = pd.DataFrame(requests.get(url=url,headers=json_headers, params=params).json()['results'])\n",
    "\n",
    "# Show the results\n",
    "timeseries_count_of_values_in_time_frame\n",
    "\n",
    "# In this case all counts except the start and finish are different (24 hours * 7 days = 168, meaning every hour an event (or data entry) can be found)"
   ]
  },
  {
   "cell_type": "markdown",
   "metadata": {
    "id": "BRpsPgaOpTH3"
   },
   "source": [
    "# 12. How to query percentiles of time series events?\n"
   ]
  },
  {
   "cell_type": "markdown",
   "metadata": {
    "id": "KoyZRKKX4qHp"
   },
   "source": [
    "Lizard enables you to query percentiles of your time series events via the `percentiles` endpoint. <br>\n",
    "Again you will need the UUID of the time series object to query percentiles, template: **demo.lizard.net/api/v4/timeseries/*{uuid of time series object}*/percentiles/**\n",
    "\n",
    "##### Example:\n",
    "https://demo.lizard.net/api/v4/timeseries/e849123b-19eb-43a4-ae16-f3cb05a9dea7/percentiles/\n",
    "\n",
    "\n",
    "#### Available query parameters:\n",
    "\n",
    "* The start date of the period of interest<br>\n",
    "`?start=2016-06-21T06:05:00Z`\n",
    "\n",
    "* The end date of the period of interest<br>\n",
    "`?end=2017-06-21T06:05:00Z`\n",
    "\n",
    "* The percentile of interest<br>\n",
    "`?percentiles=25,50,75`"
   ]
  },
  {
   "cell_type": "code",
   "execution_count": null,
   "metadata": {
    "id": "92mEFeeOpTH4"
   },
   "outputs": [],
   "source": [
    "# For the De Bilt weatherstation a large part of the dataset will be zero (no rain), therefore it can be more interesting to look into the extremes (1 and 99 percentiles)\n",
    "uuid = \"8c3bffcf-b0b7-4550-a5a9-c5220c29fede\"\n",
    "\n",
    "params= {'start':'2019-01-01T00:00:00Z', 'end':'2020-01-01T00:00:00Z', 'percentiles':'..., ..., ...'} # Set the percentiles\n",
    "\n",
    "url = \"https://nens.lizard.net/api/v4/timeseries/{}/percentiles/\".format(uuid) #we use page size to include all values\n",
    "\n",
    "#Retrieve the 'results' attribute using a JSON interpreter\n",
    "timeseries_percentiles_of_values_in_time_frame = pd.DataFrame(requests.get(url=url,headers=json_headers, params=params).json()['results'])\n",
    "\n",
    "timeseries_percentiles_of_values_in_time_frame"
   ]
  },
  {
   "cell_type": "code",
   "execution_count": null,
   "metadata": {
    "id": "dNsbg9-zjxHa"
   },
   "outputs": [],
   "source": [
    "# For the waterheight measured at het Katteveldse Meer its quite different.\n",
    "uuid = \"e849123b-19eb-43a4-ae16-f3cb05a9dea7\"\n",
    "\n",
    "params= {'start':'2019-01-01T00:00:00Z', 'end':'2020-01-01T00:00:00Z', 'percentiles':'..., ..., ...'} # Set the percentiles\n",
    "\n",
    "url = \"https://nens.lizard.net/api/v4/timeseries/{}/percentiles/\".format(uuid) #we use page size to include all values\n",
    "\n",
    "#Retrieve the 'results' attribute using a JSON interpreter\n",
    "timeseries_percentiles_of_values_in_time_frame = pd.DataFrame(requests.get(url=url,headers=json_headers, params=params).json()['results'])\n",
    "\n",
    "timeseries_percentiles_of_values_in_time_frame"
   ]
  }
 ],
 "metadata": {
  "colab": {
   "collapsed_sections": [
    "QgmXi_hH1htS",
    "d4A19-Mi2Ju4",
    "xyrx9Yrp2Rkh",
    "48c5pfSD1WtR",
    "fx2AoF-RAlf-",
    "PyU7t2OTpTF3",
    "NFdpUtVppTF8",
    "we1dK3_KpTGe",
    "6HaQ9jRApTGm",
    "lckOQM-xpTGv",
    "29CgGW2KFFZl",
    "QZfqgPYqyy5Z",
    "mQJI6WDaFK4T",
    "owpCH7YTpTG6",
    "inZHUj5qpTHH",
    "RJH3CkgvpTHM",
    "67y0h70XpTHR",
    "1VaNNfp2pTHU",
    "ULT7QeTOpTHa",
    "nx9d3GcEpTHa",
    "etPheSDSpTHb",
    "jHqLHUzkpTHl",
    "Vz02gl5upTHw",
    "BRpsPgaOpTH3"
   ],
   "provenance": []
  },
  "kernelspec": {
   "display_name": "lizard2",
   "language": "python",
   "name": "lizard2"
  },
  "language_info": {
   "codemirror_mode": {
    "name": "ipython",
    "version": 3
   },
   "file_extension": ".py",
   "mimetype": "text/x-python",
   "name": "python",
   "nbconvert_exporter": "python",
   "pygments_lexer": "ipython3",
   "version": "3.11.6"
  }
 },
 "nbformat": 4,
 "nbformat_minor": 4
}
